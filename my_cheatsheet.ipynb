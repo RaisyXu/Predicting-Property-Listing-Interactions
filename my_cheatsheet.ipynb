{
 "cells": [
  {
   "cell_type": "code",
   "execution_count": null,
   "id": "14c90a8b-d1dd-4278-98c3-1bdb5f4fdb48",
   "metadata": {},
   "outputs": [],
   "source": [
    "# Data manipulation\n",
    "import pandas as pd\n",
    "import numpy as np\n",
    "\n",
    "# Data preprocessing\n",
    "from sklearn.model_selection import train_test_split\n",
    "from sklearn.impute import SimpleImputer\n",
    "from sklearn.preprocessing import StandardScaler\n",
    "\n",
    "# Models\n",
    "from sklearn.linear_model import LinearRegression\n",
    "from sklearn.ensemble import RandomForestRegressor\n",
    "from sklearn.tree import DecisionTreeRegressor\n",
    "from sklearn.svm import SVR\n",
    "from sklearn.neighbors import KNeighborsRegressor\n",
    "\n",
    "# Evaluation metrics\n",
    "from sklearn.metrics import mean_squared_error, mean_absolute_error, r2_score\n"
   ]
  },
  {
   "cell_type": "code",
   "execution_count": null,
   "id": "b3fc4449-93eb-4527-9cbb-92440f62bb69",
   "metadata": {},
   "outputs": [],
   "source": [
    "# Load data\n",
    "data = pd.read_csv('your_data.csv')\n",
    "\n",
    "# Preview the data\n",
    "data.head()\n"
   ]
  },
  {
   "cell_type": "code",
   "execution_count": null,
   "id": "17ee5888-3b7b-4aa4-b984-578b2355c550",
   "metadata": {},
   "outputs": [],
   "source": [
    "# Handling missing values\n",
    "\n",
    "# Impute numerical columns with the median value\n",
    "numerical_cols = data.select_dtypes(include=['float64', 'int64']).columns\n",
    "imputer = SimpleImputer(strategy='median')\n",
    "data[numerical_cols] = imputer.fit_transform(data[numerical_cols])\n",
    "\n",
    "# Impute categorical columns with a placeholder value ('Unknown')\n",
    "categorical_cols = data.select_dtypes(include=['object']).columns\n",
    "imputer_cat = SimpleImputer(strategy='constant', fill_value='Unknown')\n",
    "data[categorical_cols] = imputer_cat.fit_transform(data[categorical_cols])\n",
    "\n",
    "# Drop duplicate rows (if applicable)\n",
    "data = data.drop_duplicates()\n",
    "\n",
    "# Optional: Handle outliers (if needed)\n",
    "# Example: Removing rows where 'feature' is outside the acceptable range\n",
    "# data = data[data['feature'] < threshold_value]\n"
   ]
  },
  {
   "cell_type": "code",
   "execution_count": null,
   "id": "1424b6df-ba2b-437d-810a-68344eab8038",
   "metadata": {},
   "outputs": [],
   "source": [
    "# Feature Engineering\n",
    "\n",
    "# Extract datetime features (if you have a timestamp column)\n",
    "data['created_at'] = pd.to_datetime(data['created_at'])\n",
    "data['hour'] = data['created_at'].dt.hour\n",
    "data['dayofweek'] = data['created_at'].dt.dayofweek\n",
    "data['month'] = data['created_at'].dt.month\n",
    "\n",
    "# Convert categorical columns using one-hot encoding if necessary\n",
    "data = pd.get_dummies(data, drop_first=True)\n",
    "\n",
    "# Example: Create an interaction term between two features\n",
    "data['total_item_value'] = data['total_items'] * data['subtotal']\n"
   ]
  },
  {
   "cell_type": "code",
   "execution_count": null,
   "id": "1241da6a-738f-4bfc-ba7a-0b4913dc3a1e",
   "metadata": {},
   "outputs": [],
   "source": [
    "# Feature scaling (Standardization)\n",
    "scaler = StandardScaler()\n",
    "numerical_cols_scaled = data.select_dtypes(include=['float64', 'int64']).columns\n",
    "data[numerical_cols_scaled] = scaler.fit_transform(data[numerical_cols_scaled])\n"
   ]
  },
  {
   "cell_type": "code",
   "execution_count": null,
   "id": "abb4ca4d-904f-4451-b4b9-518e17ef4c97",
   "metadata": {},
   "outputs": [],
   "source": [
    "# Define the target and feature variables\n",
    "X = data.drop(columns=['target_column', 'created_at'])  # drop target column and any non-predictor features\n",
    "y = data['target_column']  # The target variable you want to predict\n",
    "\n",
    "# Split the data into training and testing sets\n",
    "X_train, X_test, y_train, y_test = train_test_split(X, y, test_size=0.2, random_state=42)\n"
   ]
  },
  {
   "cell_type": "markdown",
   "id": "25a61ca0-b5a0-4957-8915-3d195c418d25",
   "metadata": {},
   "source": [
    "### Linear"
   ]
  },
  {
   "cell_type": "code",
   "execution_count": null,
   "id": "4152ac62-5ebc-40c4-87ef-f89d446b0065",
   "metadata": {},
   "outputs": [],
   "source": [
    "# Initialize and train the model\n",
    "lr_model = LinearRegression()\n",
    "lr_model.fit(X_train, y_train)\n",
    "\n",
    "# Predicting on the test set\n",
    "y_pred_lr = lr_model.predict(X_test)\n",
    "\n",
    "# Evaluate model\n",
    "print(f'Linear Regression RMSE: {np.sqrt(mean_squared_error(y_test, y_pred_lr))}')\n",
    "print(f'Linear Regression R2 Score: {r2_score(y_test, y_pred_lr)}')\n"
   ]
  },
  {
   "cell_type": "markdown",
   "id": "8a429970-20ef-402d-b8d3-33e18583b958",
   "metadata": {},
   "source": [
    "### RF"
   ]
  },
  {
   "cell_type": "code",
   "execution_count": null,
   "id": "190149a4-35b0-4f7b-a3a4-817a6de56b5a",
   "metadata": {},
   "outputs": [],
   "source": [
    "# Initialize and train the model\n",
    "rf_model = RandomForestRegressor(n_estimators=100, random_state=42)\n",
    "rf_model.fit(X_train, y_train)\n",
    "\n",
    "# Predicting on the test set\n",
    "y_pred_rf = rf_model.predict(X_test)\n",
    "\n",
    "# Evaluate model\n",
    "print(f'Random Forest RMSE: {np.sqrt(mean_squared_error(y_test, y_pred_rf))}')\n",
    "print(f'Random Forest R2 Score: {r2_score(y_test, y_pred_rf)}')\n"
   ]
  },
  {
   "cell_type": "code",
   "execution_count": 5,
   "id": "9b848f3a-320e-40dd-b9ad-da42a93ad87d",
   "metadata": {},
   "outputs": [
    {
     "ename": "NameError",
     "evalue": "name 'X_train' is not defined",
     "output_type": "error",
     "traceback": [
      "\u001b[1;31m---------------------------------------------------------------------------\u001b[0m",
      "\u001b[1;31mNameError\u001b[0m                                 Traceback (most recent call last)",
      "Cell \u001b[1;32mIn[5], line 24\u001b[0m\n\u001b[0;32m     19\u001b[0m random_search \u001b[38;5;241m=\u001b[39m RandomizedSearchCV(estimator\u001b[38;5;241m=\u001b[39mrf_model, param_distributions\u001b[38;5;241m=\u001b[39mparam_dist, \n\u001b[0;32m     20\u001b[0m                                    n_iter\u001b[38;5;241m=\u001b[39m\u001b[38;5;241m100\u001b[39m, cv\u001b[38;5;241m=\u001b[39m\u001b[38;5;241m5\u001b[39m, n_jobs\u001b[38;5;241m=\u001b[39m\u001b[38;5;241m-\u001b[39m\u001b[38;5;241m1\u001b[39m, verbose\u001b[38;5;241m=\u001b[39m\u001b[38;5;241m2\u001b[39m, \n\u001b[0;32m     21\u001b[0m                                    scoring\u001b[38;5;241m=\u001b[39m\u001b[38;5;124m'\u001b[39m\u001b[38;5;124mneg_mean_squared_error\u001b[39m\u001b[38;5;124m'\u001b[39m, random_state\u001b[38;5;241m=\u001b[39m\u001b[38;5;241m42\u001b[39m)\n\u001b[0;32m     23\u001b[0m \u001b[38;5;66;03m# Fit the model to the data\u001b[39;00m\n\u001b[1;32m---> 24\u001b[0m random_search\u001b[38;5;241m.\u001b[39mfit(\u001b[43mX_train\u001b[49m, y_train)\n\u001b[0;32m     26\u001b[0m \u001b[38;5;66;03m# Print the best parameters and best score\u001b[39;00m\n\u001b[0;32m     27\u001b[0m \u001b[38;5;28mprint\u001b[39m(\u001b[38;5;124mf\u001b[39m\u001b[38;5;124m\"\u001b[39m\u001b[38;5;124mBest parameters for RF (RandomizedSearchCV): \u001b[39m\u001b[38;5;132;01m{\u001b[39;00mrandom_search\u001b[38;5;241m.\u001b[39mbest_params_\u001b[38;5;132;01m}\u001b[39;00m\u001b[38;5;124m\"\u001b[39m)\n",
      "\u001b[1;31mNameError\u001b[0m: name 'X_train' is not defined"
     ]
    }
   ],
   "source": [
    "# Hypertuning\n",
    "from sklearn.model_selection import RandomizedSearchCV\n",
    "from sklearn.ensemble import RandomForestRegressor\n",
    "from scipy.stats import randint\n",
    "\n",
    "# Define the model\n",
    "rf_model = RandomForestRegressor(random_state=42)\n",
    "\n",
    "# Define the hyperparameter distribution\n",
    "param_dist = {\n",
    "    'n_estimators': randint(50, 200),\n",
    "    'max_depth': [None, 10, 20, 30],\n",
    "    'min_samples_split': randint(2, 10),\n",
    "    'min_samples_leaf': randint(1, 4),\n",
    "    'max_features': ['auto', 'sqrt', 'log2'],\n",
    "    'bootstrap': [True, False]\n",
    "}\n",
    "\n",
    "# Initialize RandomizedSearchCV\n",
    "random_search = RandomizedSearchCV(estimator=rf_model, param_distributions=param_dist, \n",
    "                                   n_iter=100, cv=5, n_jobs=-1, verbose=2, \n",
    "                                   scoring='neg_mean_squared_error', random_state=42)\n",
    "\n",
    "# Fit the model to the data\n",
    "random_search.fit(X_train, y_train)\n",
    "\n",
    "# Print the best parameters and best score\n",
    "print(f\"Best parameters for RF (RandomizedSearchCV): {random_search.best_params_}\")\n",
    "print(f\"Best score (neg MSE) for RF: {random_search.best_score_}\")\n"
   ]
  },
  {
   "cell_type": "markdown",
   "id": "b965639f-c829-4e1f-be2c-0e80643ee101",
   "metadata": {},
   "source": [
    "### Cross Validation RF"
   ]
  },
  {
   "cell_type": "code",
   "execution_count": null,
   "id": "07375936-99b4-4720-8450-b3fe7c3fc5d7",
   "metadata": {},
   "outputs": [],
   "source": [
    "from sklearn.model_selection import cross_val_score\n",
    "from sklearn.ensemble import RandomForestRegressor\n",
    "\n",
    "# Define the model\n",
    "rf_model = RandomForestRegressor(n_estimators=100, random_state=42)\n",
    "\n",
    "# Perform 5-fold cross-validation\n",
    "cv_scores = cross_val_score(rf_model, X_train, y_train, cv=5, scoring='neg_mean_squared_error')\n",
    "\n",
    "# Calculate RMSE from cross-validation scores\n",
    "rmse_scores = np.sqrt(-cv_scores)\n",
    "print(f'Random Forest Cross-Validation RMSE: {rmse_scores}')\n",
    "print(f'Mean RMSE: {rmse_scores.mean()}')\n"
   ]
  },
  {
   "cell_type": "markdown",
   "id": "d5f6d501-ca28-44ec-b11c-0b538ae48bf4",
   "metadata": {},
   "source": [
    "### Decision T"
   ]
  },
  {
   "cell_type": "code",
   "execution_count": null,
   "id": "60167a5e-1891-477e-b4c3-8658b46421e6",
   "metadata": {},
   "outputs": [],
   "source": [
    "# Initialize and train the model\n",
    "dt_model = DecisionTreeRegressor(random_state=42)\n",
    "dt_model.fit(X_train, y_train)\n",
    "\n",
    "# Predicting on the test set\n",
    "y_pred_dt = dt_model.predict(X_test)\n",
    "\n",
    "# Evaluate model\n",
    "print(f'Decision Tree RMSE: {np.sqrt(mean_squared_error(y_test, y_pred_dt))}')\n",
    "print(f'Decision Tree R2 Score: {r2_score(y_test, y_pred_dt)}')\n"
   ]
  },
  {
   "cell_type": "markdown",
   "id": "304ee39d-a4ab-40c9-9fa3-ff776f0161ca",
   "metadata": {},
   "source": [
    "### Support Vector Regressor"
   ]
  },
  {
   "cell_type": "code",
   "execution_count": null,
   "id": "04438bba-6d18-4b82-8548-4db4ee6ca66d",
   "metadata": {},
   "outputs": [],
   "source": [
    "# Initialize and train the model\n",
    "svr_model = SVR()\n",
    "svr_model.fit(X_train, y_train)\n",
    "\n",
    "# Predicting on the test set\n",
    "y_pred_svr = svr_model.predict(X_test)\n",
    "\n",
    "# Evaluate model\n",
    "print(f'SVR RMSE: {np.sqrt(mean_squared_error(y_test, y_pred_svr))}')\n",
    "print(f'SVR R2 Score: {r2_score(y_test, y_pred_svr)}')\n"
   ]
  },
  {
   "cell_type": "markdown",
   "id": "b165b97b-437b-43ac-afdf-fbb225604eaa",
   "metadata": {},
   "source": [
    "### KNN"
   ]
  },
  {
   "cell_type": "code",
   "execution_count": null,
   "id": "aef9a787-d0bc-4a5d-ac88-c4224039d21d",
   "metadata": {},
   "outputs": [],
   "source": [
    "# Initialize and train the model\n",
    "knn_model = KNeighborsRegressor()\n",
    "knn_model.fit(X_train, y_train)\n",
    "\n",
    "# Predicting on the test set\n",
    "y_pred_knn = knn_model.predict(X_test)\n",
    "\n",
    "# Evaluate model\n",
    "print(f'KNN RMSE: {np.sqrt(mean_squared_error(y_test, y_pred_knn))}')\n",
    "print(f'KNN R2 Score: {r2_score(y_test, y_pred_knn)}')\n"
   ]
  },
  {
   "cell_type": "code",
   "execution_count": null,
   "id": "71021eaf-afa1-4806-8637-b4b01b62ce95",
   "metadata": {},
   "outputs": [],
   "source": [
    "# RMSE (Root Mean Squared Error)\n",
    "rmse = np.sqrt(mean_squared_error(y_test, y_pred))\n",
    "print(f'RMSE: {rmse}')\n",
    "\n",
    "# MAE (Mean Absolute Error)\n",
    "mae = mean_absolute_error(y_test, y_pred)\n",
    "print(f'MAE: {mae}')\n",
    "\n",
    "# R2 Score\n",
    "r2 = r2_score(y_test, y_pred)\n",
    "print(f'R2 Score: {r2}')\n"
   ]
  },
  {
   "cell_type": "markdown",
   "id": "82b74463-da4e-4213-8aac-8370c21278c8",
   "metadata": {},
   "source": [
    "#### Cross Validation"
   ]
  },
  {
   "cell_type": "code",
   "execution_count": null,
   "id": "70792c8e-7eb2-46d8-8266-909da7f1ee9d",
   "metadata": {},
   "outputs": [],
   "source": [
    "from sklearn.model_selection import cross_val_score\n",
    "from sklearn.neighbors import KNeighborsRegressor\n",
    "\n",
    "# Define the model\n",
    "knn_model = KNeighborsRegressor(n_neighbors=5)\n",
    "\n",
    "# Perform 5-fold cross-validation\n",
    "cv_scores_knn = cross_val_score(knn_model, X_train, y_train, cv=5, scoring='neg_mean_squared_error')\n",
    "\n",
    "# Calculate RMSE from cross-validation scores\n",
    "rmse_scores_knn = np.sqrt(-cv_scores_knn)\n",
    "print(f'KNN Cross-Validation RMSE: {rmse_scores_knn}')\n",
    "print(f'Mean RMSE for KNN: {rmse_scores_knn.mean()}')\n"
   ]
  },
  {
   "cell_type": "markdown",
   "id": "d6c8301b-348b-42de-8074-ba3c6f4ec0d7",
   "metadata": {},
   "source": [
    "## tuning"
   ]
  },
  {
   "cell_type": "code",
   "execution_count": null,
   "id": "57e240f6-7085-40a1-b5ca-f33ac07949c6",
   "metadata": {},
   "outputs": [],
   "source": [
    "from sklearn.model_selection import GridSearchCV\n",
    "\n",
    "# Example: Hyperparameter tuning for Random Forest\n",
    "param_grid = {\n",
    "    'n_estimators': [50, 100, 200],\n",
    "    'max_depth': [10, 20, None]\n",
    "}\n",
    "\n",
    "grid_search = GridSearchCV(RandomForestRegressor(), param_grid, cv=5)\n",
    "grid_search.fit(X_train, y_train)\n",
    "\n",
    "# Get the best parameters\n",
    "print(\"Best Parameters:\", grid_search.best_params_)\n"
   ]
  },
  {
   "cell_type": "markdown",
   "id": "99f12780-cbff-44da-bac0-c0eca904a98d",
   "metadata": {},
   "source": [
    "## Deploy"
   ]
  },
  {
   "cell_type": "code",
   "execution_count": null,
   "id": "faa9d682-73a2-437a-9ede-b4375d6b5bbd",
   "metadata": {},
   "outputs": [],
   "source": [
    "import joblib\n",
    "\n",
    "# Save the trained model to a file\n",
    "joblib.dump(rf_model, 'random_forest_model.pkl')\n",
    "\n",
    "# Load the model back\n",
    "loaded_model = joblib.load('random_forest_model.pkl')\n",
    "\n",
    "# Make predictions with the loaded model\n",
    "predictions = loaded_model.predict(X_test)\n"
   ]
  },
  {
   "cell_type": "code",
   "execution_count": null,
   "id": "6377190b-a8d0-4134-8319-79a4eb49509a",
   "metadata": {},
   "outputs": [],
   "source": []
  },
  {
   "cell_type": "code",
   "execution_count": null,
   "id": "bb7e3410-f489-4ed5-a75b-bb3c19cac473",
   "metadata": {},
   "outputs": [],
   "source": []
  },
  {
   "cell_type": "code",
   "execution_count": 2,
   "id": "1972dad7-9273-4321-9c41-703152b5c7c5",
   "metadata": {},
   "outputs": [],
   "source": [
    "## Table operations::"
   ]
  },
  {
   "cell_type": "code",
   "execution_count": null,
   "id": "dce878f9-2a15-497b-ba4c-7359c0a3fe1f",
   "metadata": {},
   "outputs": [],
   "source": []
  },
  {
   "cell_type": "code",
   "execution_count": 3,
   "id": "a94f44cc-552d-431b-bcae-f6748939f58f",
   "metadata": {},
   "outputs": [
    {
     "ename": "FileNotFoundError",
     "evalue": "[Errno 2] No such file or directory: 'your_file.csv'",
     "output_type": "error",
     "traceback": [
      "\u001b[1;31m---------------------------------------------------------------------------\u001b[0m",
      "\u001b[1;31mFileNotFoundError\u001b[0m                         Traceback (most recent call last)",
      "Cell \u001b[1;32mIn[3], line 4\u001b[0m\n\u001b[0;32m      1\u001b[0m \u001b[38;5;28;01mimport\u001b[39;00m \u001b[38;5;21;01mpandas\u001b[39;00m \u001b[38;5;28;01mas\u001b[39;00m \u001b[38;5;21;01mpd\u001b[39;00m\n\u001b[0;32m      3\u001b[0m \u001b[38;5;66;03m# Load data from a CSV file\u001b[39;00m\n\u001b[1;32m----> 4\u001b[0m data \u001b[38;5;241m=\u001b[39m \u001b[43mpd\u001b[49m\u001b[38;5;241;43m.\u001b[39;49m\u001b[43mread_csv\u001b[49m\u001b[43m(\u001b[49m\u001b[38;5;124;43m'\u001b[39;49m\u001b[38;5;124;43myour_file.csv\u001b[39;49m\u001b[38;5;124;43m'\u001b[39;49m\u001b[43m)\u001b[49m\n\u001b[0;32m      6\u001b[0m \u001b[38;5;66;03m# Load data from an Excel file\u001b[39;00m\n\u001b[0;32m      7\u001b[0m data \u001b[38;5;241m=\u001b[39m pd\u001b[38;5;241m.\u001b[39mread_excel(\u001b[38;5;124m'\u001b[39m\u001b[38;5;124myour_file.xlsx\u001b[39m\u001b[38;5;124m'\u001b[39m)\n",
      "File \u001b[1;32m~\\anaconda3\\envs\\leon_new\\lib\\site-packages\\pandas\\io\\parsers\\readers.py:912\u001b[0m, in \u001b[0;36mread_csv\u001b[1;34m(filepath_or_buffer, sep, delimiter, header, names, index_col, usecols, dtype, engine, converters, true_values, false_values, skipinitialspace, skiprows, skipfooter, nrows, na_values, keep_default_na, na_filter, verbose, skip_blank_lines, parse_dates, infer_datetime_format, keep_date_col, date_parser, date_format, dayfirst, cache_dates, iterator, chunksize, compression, thousands, decimal, lineterminator, quotechar, quoting, doublequote, escapechar, comment, encoding, encoding_errors, dialect, on_bad_lines, delim_whitespace, low_memory, memory_map, float_precision, storage_options, dtype_backend)\u001b[0m\n\u001b[0;32m    899\u001b[0m kwds_defaults \u001b[38;5;241m=\u001b[39m _refine_defaults_read(\n\u001b[0;32m    900\u001b[0m     dialect,\n\u001b[0;32m    901\u001b[0m     delimiter,\n\u001b[1;32m   (...)\u001b[0m\n\u001b[0;32m    908\u001b[0m     dtype_backend\u001b[38;5;241m=\u001b[39mdtype_backend,\n\u001b[0;32m    909\u001b[0m )\n\u001b[0;32m    910\u001b[0m kwds\u001b[38;5;241m.\u001b[39mupdate(kwds_defaults)\n\u001b[1;32m--> 912\u001b[0m \u001b[38;5;28;01mreturn\u001b[39;00m \u001b[43m_read\u001b[49m\u001b[43m(\u001b[49m\u001b[43mfilepath_or_buffer\u001b[49m\u001b[43m,\u001b[49m\u001b[43m \u001b[49m\u001b[43mkwds\u001b[49m\u001b[43m)\u001b[49m\n",
      "File \u001b[1;32m~\\anaconda3\\envs\\leon_new\\lib\\site-packages\\pandas\\io\\parsers\\readers.py:577\u001b[0m, in \u001b[0;36m_read\u001b[1;34m(filepath_or_buffer, kwds)\u001b[0m\n\u001b[0;32m    574\u001b[0m _validate_names(kwds\u001b[38;5;241m.\u001b[39mget(\u001b[38;5;124m\"\u001b[39m\u001b[38;5;124mnames\u001b[39m\u001b[38;5;124m\"\u001b[39m, \u001b[38;5;28;01mNone\u001b[39;00m))\n\u001b[0;32m    576\u001b[0m \u001b[38;5;66;03m# Create the parser.\u001b[39;00m\n\u001b[1;32m--> 577\u001b[0m parser \u001b[38;5;241m=\u001b[39m \u001b[43mTextFileReader\u001b[49m\u001b[43m(\u001b[49m\u001b[43mfilepath_or_buffer\u001b[49m\u001b[43m,\u001b[49m\u001b[43m \u001b[49m\u001b[38;5;241;43m*\u001b[39;49m\u001b[38;5;241;43m*\u001b[39;49m\u001b[43mkwds\u001b[49m\u001b[43m)\u001b[49m\n\u001b[0;32m    579\u001b[0m \u001b[38;5;28;01mif\u001b[39;00m chunksize \u001b[38;5;129;01mor\u001b[39;00m iterator:\n\u001b[0;32m    580\u001b[0m     \u001b[38;5;28;01mreturn\u001b[39;00m parser\n",
      "File \u001b[1;32m~\\anaconda3\\envs\\leon_new\\lib\\site-packages\\pandas\\io\\parsers\\readers.py:1407\u001b[0m, in \u001b[0;36mTextFileReader.__init__\u001b[1;34m(self, f, engine, **kwds)\u001b[0m\n\u001b[0;32m   1404\u001b[0m     \u001b[38;5;28mself\u001b[39m\u001b[38;5;241m.\u001b[39moptions[\u001b[38;5;124m\"\u001b[39m\u001b[38;5;124mhas_index_names\u001b[39m\u001b[38;5;124m\"\u001b[39m] \u001b[38;5;241m=\u001b[39m kwds[\u001b[38;5;124m\"\u001b[39m\u001b[38;5;124mhas_index_names\u001b[39m\u001b[38;5;124m\"\u001b[39m]\n\u001b[0;32m   1406\u001b[0m \u001b[38;5;28mself\u001b[39m\u001b[38;5;241m.\u001b[39mhandles: IOHandles \u001b[38;5;241m|\u001b[39m \u001b[38;5;28;01mNone\u001b[39;00m \u001b[38;5;241m=\u001b[39m \u001b[38;5;28;01mNone\u001b[39;00m\n\u001b[1;32m-> 1407\u001b[0m \u001b[38;5;28mself\u001b[39m\u001b[38;5;241m.\u001b[39m_engine \u001b[38;5;241m=\u001b[39m \u001b[38;5;28;43mself\u001b[39;49m\u001b[38;5;241;43m.\u001b[39;49m\u001b[43m_make_engine\u001b[49m\u001b[43m(\u001b[49m\u001b[43mf\u001b[49m\u001b[43m,\u001b[49m\u001b[43m \u001b[49m\u001b[38;5;28;43mself\u001b[39;49m\u001b[38;5;241;43m.\u001b[39;49m\u001b[43mengine\u001b[49m\u001b[43m)\u001b[49m\n",
      "File \u001b[1;32m~\\anaconda3\\envs\\leon_new\\lib\\site-packages\\pandas\\io\\parsers\\readers.py:1661\u001b[0m, in \u001b[0;36mTextFileReader._make_engine\u001b[1;34m(self, f, engine)\u001b[0m\n\u001b[0;32m   1659\u001b[0m     \u001b[38;5;28;01mif\u001b[39;00m \u001b[38;5;124m\"\u001b[39m\u001b[38;5;124mb\u001b[39m\u001b[38;5;124m\"\u001b[39m \u001b[38;5;129;01mnot\u001b[39;00m \u001b[38;5;129;01min\u001b[39;00m mode:\n\u001b[0;32m   1660\u001b[0m         mode \u001b[38;5;241m+\u001b[39m\u001b[38;5;241m=\u001b[39m \u001b[38;5;124m\"\u001b[39m\u001b[38;5;124mb\u001b[39m\u001b[38;5;124m\"\u001b[39m\n\u001b[1;32m-> 1661\u001b[0m \u001b[38;5;28mself\u001b[39m\u001b[38;5;241m.\u001b[39mhandles \u001b[38;5;241m=\u001b[39m \u001b[43mget_handle\u001b[49m\u001b[43m(\u001b[49m\n\u001b[0;32m   1662\u001b[0m \u001b[43m    \u001b[49m\u001b[43mf\u001b[49m\u001b[43m,\u001b[49m\n\u001b[0;32m   1663\u001b[0m \u001b[43m    \u001b[49m\u001b[43mmode\u001b[49m\u001b[43m,\u001b[49m\n\u001b[0;32m   1664\u001b[0m \u001b[43m    \u001b[49m\u001b[43mencoding\u001b[49m\u001b[38;5;241;43m=\u001b[39;49m\u001b[38;5;28;43mself\u001b[39;49m\u001b[38;5;241;43m.\u001b[39;49m\u001b[43moptions\u001b[49m\u001b[38;5;241;43m.\u001b[39;49m\u001b[43mget\u001b[49m\u001b[43m(\u001b[49m\u001b[38;5;124;43m\"\u001b[39;49m\u001b[38;5;124;43mencoding\u001b[39;49m\u001b[38;5;124;43m\"\u001b[39;49m\u001b[43m,\u001b[49m\u001b[43m \u001b[49m\u001b[38;5;28;43;01mNone\u001b[39;49;00m\u001b[43m)\u001b[49m\u001b[43m,\u001b[49m\n\u001b[0;32m   1665\u001b[0m \u001b[43m    \u001b[49m\u001b[43mcompression\u001b[49m\u001b[38;5;241;43m=\u001b[39;49m\u001b[38;5;28;43mself\u001b[39;49m\u001b[38;5;241;43m.\u001b[39;49m\u001b[43moptions\u001b[49m\u001b[38;5;241;43m.\u001b[39;49m\u001b[43mget\u001b[49m\u001b[43m(\u001b[49m\u001b[38;5;124;43m\"\u001b[39;49m\u001b[38;5;124;43mcompression\u001b[39;49m\u001b[38;5;124;43m\"\u001b[39;49m\u001b[43m,\u001b[49m\u001b[43m \u001b[49m\u001b[38;5;28;43;01mNone\u001b[39;49;00m\u001b[43m)\u001b[49m\u001b[43m,\u001b[49m\n\u001b[0;32m   1666\u001b[0m \u001b[43m    \u001b[49m\u001b[43mmemory_map\u001b[49m\u001b[38;5;241;43m=\u001b[39;49m\u001b[38;5;28;43mself\u001b[39;49m\u001b[38;5;241;43m.\u001b[39;49m\u001b[43moptions\u001b[49m\u001b[38;5;241;43m.\u001b[39;49m\u001b[43mget\u001b[49m\u001b[43m(\u001b[49m\u001b[38;5;124;43m\"\u001b[39;49m\u001b[38;5;124;43mmemory_map\u001b[39;49m\u001b[38;5;124;43m\"\u001b[39;49m\u001b[43m,\u001b[49m\u001b[43m \u001b[49m\u001b[38;5;28;43;01mFalse\u001b[39;49;00m\u001b[43m)\u001b[49m\u001b[43m,\u001b[49m\n\u001b[0;32m   1667\u001b[0m \u001b[43m    \u001b[49m\u001b[43mis_text\u001b[49m\u001b[38;5;241;43m=\u001b[39;49m\u001b[43mis_text\u001b[49m\u001b[43m,\u001b[49m\n\u001b[0;32m   1668\u001b[0m \u001b[43m    \u001b[49m\u001b[43merrors\u001b[49m\u001b[38;5;241;43m=\u001b[39;49m\u001b[38;5;28;43mself\u001b[39;49m\u001b[38;5;241;43m.\u001b[39;49m\u001b[43moptions\u001b[49m\u001b[38;5;241;43m.\u001b[39;49m\u001b[43mget\u001b[49m\u001b[43m(\u001b[49m\u001b[38;5;124;43m\"\u001b[39;49m\u001b[38;5;124;43mencoding_errors\u001b[39;49m\u001b[38;5;124;43m\"\u001b[39;49m\u001b[43m,\u001b[49m\u001b[43m \u001b[49m\u001b[38;5;124;43m\"\u001b[39;49m\u001b[38;5;124;43mstrict\u001b[39;49m\u001b[38;5;124;43m\"\u001b[39;49m\u001b[43m)\u001b[49m\u001b[43m,\u001b[49m\n\u001b[0;32m   1669\u001b[0m \u001b[43m    \u001b[49m\u001b[43mstorage_options\u001b[49m\u001b[38;5;241;43m=\u001b[39;49m\u001b[38;5;28;43mself\u001b[39;49m\u001b[38;5;241;43m.\u001b[39;49m\u001b[43moptions\u001b[49m\u001b[38;5;241;43m.\u001b[39;49m\u001b[43mget\u001b[49m\u001b[43m(\u001b[49m\u001b[38;5;124;43m\"\u001b[39;49m\u001b[38;5;124;43mstorage_options\u001b[39;49m\u001b[38;5;124;43m\"\u001b[39;49m\u001b[43m,\u001b[49m\u001b[43m \u001b[49m\u001b[38;5;28;43;01mNone\u001b[39;49;00m\u001b[43m)\u001b[49m\u001b[43m,\u001b[49m\n\u001b[0;32m   1670\u001b[0m \u001b[43m\u001b[49m\u001b[43m)\u001b[49m\n\u001b[0;32m   1671\u001b[0m \u001b[38;5;28;01massert\u001b[39;00m \u001b[38;5;28mself\u001b[39m\u001b[38;5;241m.\u001b[39mhandles \u001b[38;5;129;01mis\u001b[39;00m \u001b[38;5;129;01mnot\u001b[39;00m \u001b[38;5;28;01mNone\u001b[39;00m\n\u001b[0;32m   1672\u001b[0m f \u001b[38;5;241m=\u001b[39m \u001b[38;5;28mself\u001b[39m\u001b[38;5;241m.\u001b[39mhandles\u001b[38;5;241m.\u001b[39mhandle\n",
      "File \u001b[1;32m~\\anaconda3\\envs\\leon_new\\lib\\site-packages\\pandas\\io\\common.py:859\u001b[0m, in \u001b[0;36mget_handle\u001b[1;34m(path_or_buf, mode, encoding, compression, memory_map, is_text, errors, storage_options)\u001b[0m\n\u001b[0;32m    854\u001b[0m \u001b[38;5;28;01melif\u001b[39;00m \u001b[38;5;28misinstance\u001b[39m(handle, \u001b[38;5;28mstr\u001b[39m):\n\u001b[0;32m    855\u001b[0m     \u001b[38;5;66;03m# Check whether the filename is to be opened in binary mode.\u001b[39;00m\n\u001b[0;32m    856\u001b[0m     \u001b[38;5;66;03m# Binary mode does not support 'encoding' and 'newline'.\u001b[39;00m\n\u001b[0;32m    857\u001b[0m     \u001b[38;5;28;01mif\u001b[39;00m ioargs\u001b[38;5;241m.\u001b[39mencoding \u001b[38;5;129;01mand\u001b[39;00m \u001b[38;5;124m\"\u001b[39m\u001b[38;5;124mb\u001b[39m\u001b[38;5;124m\"\u001b[39m \u001b[38;5;129;01mnot\u001b[39;00m \u001b[38;5;129;01min\u001b[39;00m ioargs\u001b[38;5;241m.\u001b[39mmode:\n\u001b[0;32m    858\u001b[0m         \u001b[38;5;66;03m# Encoding\u001b[39;00m\n\u001b[1;32m--> 859\u001b[0m         handle \u001b[38;5;241m=\u001b[39m \u001b[38;5;28;43mopen\u001b[39;49m\u001b[43m(\u001b[49m\n\u001b[0;32m    860\u001b[0m \u001b[43m            \u001b[49m\u001b[43mhandle\u001b[49m\u001b[43m,\u001b[49m\n\u001b[0;32m    861\u001b[0m \u001b[43m            \u001b[49m\u001b[43mioargs\u001b[49m\u001b[38;5;241;43m.\u001b[39;49m\u001b[43mmode\u001b[49m\u001b[43m,\u001b[49m\n\u001b[0;32m    862\u001b[0m \u001b[43m            \u001b[49m\u001b[43mencoding\u001b[49m\u001b[38;5;241;43m=\u001b[39;49m\u001b[43mioargs\u001b[49m\u001b[38;5;241;43m.\u001b[39;49m\u001b[43mencoding\u001b[49m\u001b[43m,\u001b[49m\n\u001b[0;32m    863\u001b[0m \u001b[43m            \u001b[49m\u001b[43merrors\u001b[49m\u001b[38;5;241;43m=\u001b[39;49m\u001b[43merrors\u001b[49m\u001b[43m,\u001b[49m\n\u001b[0;32m    864\u001b[0m \u001b[43m            \u001b[49m\u001b[43mnewline\u001b[49m\u001b[38;5;241;43m=\u001b[39;49m\u001b[38;5;124;43m\"\u001b[39;49m\u001b[38;5;124;43m\"\u001b[39;49m\u001b[43m,\u001b[49m\n\u001b[0;32m    865\u001b[0m \u001b[43m        \u001b[49m\u001b[43m)\u001b[49m\n\u001b[0;32m    866\u001b[0m     \u001b[38;5;28;01melse\u001b[39;00m:\n\u001b[0;32m    867\u001b[0m         \u001b[38;5;66;03m# Binary mode\u001b[39;00m\n\u001b[0;32m    868\u001b[0m         handle \u001b[38;5;241m=\u001b[39m \u001b[38;5;28mopen\u001b[39m(handle, ioargs\u001b[38;5;241m.\u001b[39mmode)\n",
      "\u001b[1;31mFileNotFoundError\u001b[0m: [Errno 2] No such file or directory: 'your_file.csv'"
     ]
    }
   ],
   "source": [
    "import pandas as pd\n",
    "\n",
    "# Load data from a CSV file\n",
    "data = pd.read_csv('your_file.csv')\n",
    "\n",
    "# Load data from an Excel file\n",
    "data = pd.read_excel('your_file.xlsx')\n",
    "\n",
    "# Load data from a SQL database\n",
    "import sqlite3\n",
    "conn = sqlite3.connect('your_database.db')\n",
    "data = pd.read_sql_query(\"SELECT * FROM your_table\", conn)\n"
   ]
  },
  {
   "cell_type": "code",
   "execution_count": null,
   "id": "8a7282b0-fa34-49c6-9fe9-9b3d453fe7c9",
   "metadata": {},
   "outputs": [],
   "source": [
    "# View the first few rows of the dataframe\n",
    "data.head()  # By default, shows first 5 rows\n",
    "\n",
    "# View the last few rows of the dataframe\n",
    "data.tail()  # By default, shows last 5 rows\n",
    "\n",
    "# Get the data types of each column\n",
    "data.dtypes\n",
    "\n",
    "# Get a summary of the dataframe (e.g., number of rows, columns, etc.)\n",
    "data.info()\n",
    "\n",
    "# Get basic statistics for numerical columns\n",
    "data.describe()\n",
    "\n",
    "# Check for missing values in each column\n",
    "data.isnull().sum()\n",
    "\n",
    "# Check the unique values in a specific column\n",
    "data['column_name'].unique()\n",
    "\n",
    "# Get the number of unique values in each column\n",
    "data.nunique()\n"
   ]
  },
  {
   "cell_type": "code",
   "execution_count": null,
   "id": "f585ed8e-099e-4d9a-8f99-f8f6b0ee50ac",
   "metadata": {},
   "outputs": [],
   "source": [
    "# Select a single column\n",
    "data['column_name']  # Or data.column_name\n",
    "\n",
    "# Select multiple columns\n",
    "data[['column1', 'column2']]\n",
    "\n",
    "# Select rows based on conditions\n",
    "data[data['column_name'] > value]\n",
    "\n",
    "# Select rows by index position\n",
    "data.iloc[0:10]  # Select rows by position (from 0 to 10)\n",
    "\n",
    "# Select rows by label (index)\n",
    "data.loc['row_label']  # Use index label\n"
   ]
  },
  {
   "cell_type": "code",
   "execution_count": null,
   "id": "44e46ee9-5ea9-4cc5-b3c2-3e644fadc24d",
   "metadata": {},
   "outputs": [],
   "source": [
    "# Rename columns\n",
    "data.rename(columns={'old_name': 'new_name'}, inplace=True)\n",
    "\n",
    "# Create a new column\n",
    "data['new_column'] = data['column1'] + data['column2']\n",
    "\n",
    "# Drop columns\n",
    "data.drop(columns=['column_name'], inplace=True)\n",
    "\n",
    "# Drop rows with missing values\n",
    "data.dropna(inplace=True)\n",
    "data['actual_delivery_time'] = pd.to_datetime(data['actual_delivery_time'], errors='coerce') ### will stop raising error instead fill with NaT\n",
    "# Fill missing values with a specific value\n",
    "data.fillna(value='default_value', inplace=True)\n",
    "\n",
    "# Apply a function to a column\n",
    "data['column_name'] = data['column_name'].apply(lambda x: x + 1)\n",
    "\n",
    "# Change the type of a column\n",
    "data['column_name'] = data['column_name'].astype('int')\n",
    "\n",
    "# Filter rows based on multiple conditions\n",
    "data[(data['column1'] > value1) & (data['column2'] < value2)]\n"
   ]
  },
  {
   "cell_type": "code",
   "execution_count": null,
   "id": "dcbbf7f9-d4e0-4f1a-8299-a10bbd036f08",
   "metadata": {},
   "outputs": [],
   "source": [
    "# Sort data by one or more columns\n",
    "data.sort_values(by='column_name', ascending=True, inplace=True)\n",
    "\n",
    "# Sort data by multiple columns\n",
    "data.sort_values(by=['column1', 'column2'], ascending=[True, False], inplace=True)\n"
   ]
  },
  {
   "cell_type": "code",
   "execution_count": null,
   "id": "642d2aef-6276-4e8d-946e-47032ae739c8",
   "metadata": {},
   "outputs": [],
   "source": [
    "# Group data by a column and aggregate\n",
    "data_grouped = data.groupby('column_name').sum()  # Sum values for each group\n",
    "\n",
    "# Get the mean of a column, grouped by another column\n",
    "data_grouped = data.groupby('column_name')['another_column'].mean()\n",
    "\n",
    "# Get multiple statistics for each group\n",
    "data_grouped = data.groupby('column_name').agg({'column1': 'sum', 'column2': 'mean'})\n",
    "\n",
    "# Reset index after grouping (to return to the default integer index)\n",
    "data_grouped.reset_index(inplace=True)\n"
   ]
  },
  {
   "cell_type": "code",
   "execution_count": null,
   "id": "4431636e-2704-481d-8b69-a53cf0a11567",
   "metadata": {},
   "outputs": [],
   "source": [
    "# Merge two DataFrames based on a common column\n",
    "merged_data = pd.merge(data1, data2, on='common_column', how='inner')\n",
    "\n",
    "# Merge with left join (keep all rows from the left dataframe)\n",
    "merged_data = pd.merge(data1, data2, on='common_column', how='left')\n",
    "\n",
    "# Merge with outer join (keep all rows from both dataframes)\n",
    "merged_data = pd.merge(data1, data2, on='common_column', how='outer')\n"
   ]
  },
  {
   "cell_type": "code",
   "execution_count": null,
   "id": "9717fbcb-285a-48d2-bf70-3850a539bdd6",
   "metadata": {},
   "outputs": [],
   "source": [
    "# Pivot data: Convert rows into columns (for summarizing data)\n",
    "pivot_data = data.pivot(index='column1', columns='column2', values='column3')\n",
    "\n",
    "# Melt data: Convert wide-format data to long format\n",
    "melted_data = pd.melt(data, id_vars=['column1'], value_vars=['column2', 'column3'])\n"
   ]
  },
  {
   "cell_type": "code",
   "execution_count": null,
   "id": "71bb88db-9e1b-41d6-8ade-94794c60dcdf",
   "metadata": {},
   "outputs": [],
   "source": [
    "# Remove duplicate rows\n",
    "data.drop_duplicates(inplace=True)\n",
    "\n",
    "# Find duplicate rows based on a subset of columns\n",
    "data[data.duplicated(subset=['column1', 'column2'])]\n"
   ]
  },
  {
   "cell_type": "code",
   "execution_count": null,
   "id": "dcefb5c1-ae48-4bc6-a8d7-b99427a5647b",
   "metadata": {},
   "outputs": [],
   "source": [
    "# Convert a column to datetime format\n",
    "data['date_column'] = pd.to_datetime(data['date_column'])\n",
    "\n",
    "# Extract the year, month, day, hour from a datetime column\n",
    "data['year'] = data['date_column'].dt.year\n",
    "data['month'] = data['date_column'].dt.month\n",
    "data['day'] = data['date_column'].dt.day\n",
    "data['hour'] = data['date_column'].dt.hour\n",
    "\n",
    "# Filter rows by date range\n",
    "data_filtered = data[(data['date_column'] >= '2021-01-01') & (data['date_column'] <= '2021-12-31')]\n"
   ]
  },
  {
   "cell_type": "code",
   "execution_count": null,
   "id": "898b1810-d492-40ff-8f98-243b9424a633",
   "metadata": {},
   "outputs": [],
   "source": [
    "# Save the DataFrame to a CSV file\n",
    "data.to_csv('output_file.csv', index=False)\n",
    "\n",
    "# Save the DataFrame to an Excel file\n",
    "data.to_excel('output_file.xlsx', index=False)\n",
    "\n",
    "# Save the DataFrame to a SQL database\n",
    "import sqlite3\n",
    "conn = sqlite3.connect('your_database.db')\n",
    "data.to_sql('your_table', conn, if_exists='replace', index=False)\n"
   ]
  },
  {
   "cell_type": "code",
   "execution_count": null,
   "id": "88104fff-415c-4678-8ba1-4e71203c7536",
   "metadata": {},
   "outputs": [],
   "source": [
    "# Apply a function to a specific column\n",
    "data['new_column'] = data['column_name'].apply(lambda x: x * 2)\n",
    "\n",
    "# Apply a function to each row\n",
    "data['row_sum'] = data.apply(lambda row: row['column1'] + row['column2'], axis=1)\n"
   ]
  }
 ],
 "metadata": {
  "kernelspec": {
   "display_name": "Python 3 (ipykernel)",
   "language": "python",
   "name": "python3"
  },
  "language_info": {
   "codemirror_mode": {
    "name": "ipython",
    "version": 3
   },
   "file_extension": ".py",
   "mimetype": "text/x-python",
   "name": "python",
   "nbconvert_exporter": "python",
   "pygments_lexer": "ipython3",
   "version": "3.8.20"
  }
 },
 "nbformat": 4,
 "nbformat_minor": 5
}
